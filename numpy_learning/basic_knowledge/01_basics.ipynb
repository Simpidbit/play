{
 "cells": [
  {
   "cell_type": "markdown",
   "id": "225fdb9f-c9c0-4c01-926d-b3e1463c41aa",
   "metadata": {},
   "source": [
    "Link: [The Basics](https://www.numpy.org.cn/en/user/quickstart.html#the-basics)"
   ]
  },
  {
   "cell_type": "code",
   "execution_count": 14,
   "id": "e4cdd8fb-6fff-4744-9d04-5e79795297b1",
   "metadata": {},
   "outputs": [],
   "source": [
    "import numpy as np\n",
    "\n",
    "arr = np.arange(15).reshape(3, 5)"
   ]
  },
  {
   "cell_type": "code",
   "execution_count": 15,
   "id": "06e83087-f150-4a0c-8593-e06e98bb899e",
   "metadata": {},
   "outputs": [
    {
     "name": "stdout",
     "output_type": "stream",
     "text": [
      "[[ 0  1  2  3  4]\n",
      " [ 5  6  7  8  9]\n",
      " [10 11 12 13 14]]\n"
     ]
    }
   ],
   "source": [
    "print(arr)"
   ]
  },
  {
   "cell_type": "code",
   "execution_count": 16,
   "id": "4a3236e9-cf5b-4b78-be03-a1490aa35a01",
   "metadata": {},
   "outputs": [
    {
     "data": {
      "text/plain": [
       "(3, 5)"
      ]
     },
     "execution_count": 16,
     "metadata": {},
     "output_type": "execute_result"
    }
   ],
   "source": [
    "arr.shape    # the dimensions of the array."
   ]
  },
  {
   "cell_type": "code",
   "execution_count": 17,
   "id": "17f47a69-ac45-44a1-b141-cb66cef4baec",
   "metadata": {},
   "outputs": [
    {
     "data": {
      "text/plain": [
       "15"
      ]
     },
     "execution_count": 17,
     "metadata": {},
     "output_type": "execute_result"
    }
   ],
   "source": [
    "arr.size    # the total number of elements of the array."
   ]
  },
  {
   "cell_type": "code",
   "execution_count": 18,
   "id": "bc36494c-4077-4851-982e-dddc0f08d6f9",
   "metadata": {},
   "outputs": [
    {
     "data": {
      "text/plain": [
       "2"
      ]
     },
     "execution_count": 18,
     "metadata": {},
     "output_type": "execute_result"
    }
   ],
   "source": [
    "arr.ndim    # the number of axes (dimensions) of the array."
   ]
  },
  {
   "cell_type": "code",
   "execution_count": 19,
   "id": "df014c5e-2c45-4e6b-8de1-67faf76e67b9",
   "metadata": {},
   "outputs": [
    {
     "data": {
      "text/plain": [
       "dtype('int64')"
      ]
     },
     "execution_count": 19,
     "metadata": {},
     "output_type": "execute_result"
    }
   ],
   "source": [
    "arr.dtype    # an object describing the type of the elements in the array."
   ]
  },
  {
   "cell_type": "code",
   "execution_count": 20,
   "id": "94d8a2d8-434d-4779-81a2-29ce28d4fdd7",
   "metadata": {},
   "outputs": [
    {
     "data": {
      "text/plain": [
       "8"
      ]
     },
     "execution_count": 20,
     "metadata": {},
     "output_type": "execute_result"
    }
   ],
   "source": [
    "arr.itemsize    # the size in bytes of each element of the array."
   ]
  },
  {
   "cell_type": "code",
   "execution_count": 21,
   "id": "a59ca8ad-63b8-410c-a910-d2a397eeeb2f",
   "metadata": {},
   "outputs": [
    {
     "data": {
      "text/plain": [
       "<memory at 0x10685f510>"
      ]
     },
     "execution_count": 21,
     "metadata": {},
     "output_type": "execute_result"
    }
   ],
   "source": [
    "arr.data    # the total number of elements of the array."
   ]
  },
  {
   "cell_type": "code",
   "execution_count": null,
   "id": "3921a94f-fe73-46ec-9159-3e21d57036cb",
   "metadata": {},
   "outputs": [],
   "source": []
  }
 ],
 "metadata": {
  "kernelspec": {
   "display_name": "Python 3 (ipykernel)",
   "language": "python",
   "name": "python3"
  },
  "language_info": {
   "codemirror_mode": {
    "name": "ipython",
    "version": 3
   },
   "file_extension": ".py",
   "mimetype": "text/x-python",
   "name": "python",
   "nbconvert_exporter": "python",
   "pygments_lexer": "ipython3",
   "version": "3.12.4"
  }
 },
 "nbformat": 4,
 "nbformat_minor": 5
}
