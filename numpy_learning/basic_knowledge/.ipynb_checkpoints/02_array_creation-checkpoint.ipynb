{
 "cells": [
  {
   "cell_type": "markdown",
   "id": "7a64f90e-840c-45f2-ab9f-85707910b093",
   "metadata": {},
   "source": [
    "Link: [Array creation](https://www.numpy.org.cn/en/user/quickstart.html#array-creation)"
   ]
  },
  {
   "cell_type": "code",
   "execution_count": 1,
   "id": "d5dfabac-508b-48ee-9dba-39e176eac722",
   "metadata": {},
   "outputs": [],
   "source": [
    "import numpy as np"
   ]
  },
  {
   "cell_type": "markdown",
   "id": "4474437b-b318-4c8a-a63e-869914c62e8d",
   "metadata": {},
   "source": [
    "# numpy.array()"
   ]
  },
  {
   "cell_type": "markdown",
   "id": "523f9e8f-4dd8-42cf-b6b7-4062a629aa2c",
   "metadata": {},
   "source": [
    "<br />"
   ]
  },
  {
   "cell_type": "markdown",
   "id": "db9aa6d5-3e0d-4e4c-8690-da8bc7c8775e",
   "metadata": {},
   "source": [
    "## Create an array from a regular Python list or tuple"
   ]
  },
  {
   "cell_type": "code",
   "execution_count": 3,
   "id": "9a762a60-e120-42c2-8178-070f33b00aa9",
   "metadata": {},
   "outputs": [
    {
     "name": "stdout",
     "output_type": "stream",
     "text": [
      "[1 2 3 4 5 6]\n",
      "[1 2 3 4]\n"
     ]
    }
   ],
   "source": [
    "arr_from_list = np.array([1, 2, 3, 4, 5, 6])\n",
    "arr_from_tuple = np.array((1, 2, 3, 4))\n",
    "\n",
    "print(arr_from_list)\n",
    "print(arr_from_tuple)"
   ]
  },
  {
   "cell_type": "markdown",
   "id": "deba2aba-2788-49fc-856e-2942daf3c409",
   "metadata": {},
   "source": [
    "<br />"
   ]
  },
  {
   "cell_type": "markdown",
   "id": "7e20bcde-19f9-4fd3-93a2-e1ca82f9f0cb",
   "metadata": {},
   "source": [
    "## The type of the resulting array is deduced from the type of the elements in the sequences"
   ]
  },
  {
   "cell_type": "code",
   "execution_count": 5,
   "id": "cf974c27-e6d4-4fa7-a2e4-5676771ec6bd",
   "metadata": {},
   "outputs": [
    {
     "name": "stdout",
     "output_type": "stream",
     "text": [
      "float64\n"
     ]
    }
   ],
   "source": [
    "arr_of_float = np.array([1.1, 3.14, 5.56, 7.62])\n",
    "print(arr_of_float.dtype)"
   ]
  },
  {
   "cell_type": "markdown",
   "id": "b5f45db6-4fbc-47ea-ab8f-8c3588c8b657",
   "metadata": {},
   "source": [
    "<br />"
   ]
  },
  {
   "cell_type": "markdown",
   "id": "d5e4330c-a62e-4b48-afa1-206fa34ef462",
   "metadata": {},
   "source": [
    "## n-dimensional arrays"
   ]
  },
  {
   "cell_type": "code",
   "execution_count": 10,
   "id": "84136c6e-599d-4e22-a4c9-855192e67ad0",
   "metadata": {},
   "outputs": [
    {
     "name": "stdout",
     "output_type": "stream",
     "text": [
      "[[1 2 3 4]\n",
      " [9 8 7 6]\n",
      " [3 3 4 5]\n",
      " [7 9 0 1]]\n",
      "arr_2d.ndim = 2\n",
      "arr_2d.shape = (4, 4)\n"
     ]
    }
   ],
   "source": [
    "arr_2d = np.array([\n",
    "        [1, 2, 3, 4],\n",
    "        [9, 8, 7, 6],\n",
    "        [3, 3, 4, 5],\n",
    "        [7, 9, 0, 1]\n",
    "    ])\n",
    "print(arr_2d)\n",
    "print(\"arr_2d.ndim =\", arr_2d.ndim)\n",
    "print(\"arr_2d.shape =\", arr_2d.shape)"
   ]
  },
  {
   "cell_type": "code",
   "execution_count": 13,
   "id": "e0a624cb-b38e-4b47-9e37-8978269a857b",
   "metadata": {},
   "outputs": [
    {
     "name": "stdout",
     "output_type": "stream",
     "text": [
      "[[[1 2 3 4 5]\n",
      "  [5 4 3 2 1]\n",
      "  [7 4 3 2 1]\n",
      "  [5 4 3 2 1]\n",
      "  [5 4 9 2 1]\n",
      "  [4 4 8 3 1]]\n",
      "\n",
      " [[1 2 3 4 5]\n",
      "  [5 4 3 2 1]\n",
      "  [7 4 3 2 1]\n",
      "  [5 4 3 2 1]\n",
      "  [5 4 9 2 1]\n",
      "  [4 4 8 3 1]]]\n",
      "arr_3d.ndim = 3\n",
      "arr_3d.shape = (2, 6, 5)\n"
     ]
    }
   ],
   "source": [
    "arr_3d = np.array([\n",
    "    [\n",
    "        [1, 2, 3, 4, 5],\n",
    "        [5, 4, 3, 2, 1],\n",
    "        [7, 4, 3, 2, 1],\n",
    "        [5, 4, 3, 2, 1],\n",
    "        [5, 4, 9, 2, 1],\n",
    "        [4, 4, 8, 3, 1]\n",
    "    ],\n",
    "    [\n",
    "        [1, 2, 3, 4, 5],\n",
    "        [5, 4, 3, 2, 1],\n",
    "        [7, 4, 3, 2, 1],\n",
    "        [5, 4, 3, 2, 1],\n",
    "        [5, 4, 9, 2, 1],\n",
    "        [4, 4, 8, 3, 1]\n",
    "    ]\n",
    "])\n",
    "\n",
    "print(arr_3d)\n",
    "print(\"arr_3d.ndim =\", arr_3d.ndim)\n",
    "print(\"arr_3d.shape =\", arr_3d.shape)"
   ]
  },
  {
   "cell_type": "markdown",
   "id": "545ee85f-0185-4b89-82ff-012f437488f7",
   "metadata": {},
   "source": [
    "<br />"
   ]
  },
  {
   "cell_type": "markdown",
   "id": "cdcc7f81-5eb7-4e6d-af43-537522f1b067",
   "metadata": {},
   "source": [
    "## Explicitly specify the type of the array"
   ]
  },
  {
   "cell_type": "markdown",
   "id": "d616ac80-a1e9-4c39-9739-d4232457d625",
   "metadata": {},
   "source": [
    "A complex ndarray:"
   ]
  },
  {
   "cell_type": "code",
   "execution_count": 18,
   "id": "66a6c64f-5da7-4f74-83e3-ec9cee18892c",
   "metadata": {},
   "outputs": [
    {
     "name": "stdout",
     "output_type": "stream",
     "text": [
      "[[1.+2.j 2.+3.j 3.+0.j]\n",
      " [4.+0.j 5.+0.j 6.+0.j]]\n"
     ]
    }
   ],
   "source": [
    "arr_complex = np.array([\n",
    "    [1 + 2j,    2 + 3j,    3],\n",
    "    [4,         5,         6]\n",
    "], dtype = \"complex\")\n",
    "print(arr_complex)"
   ]
  },
  {
   "cell_type": "markdown",
   "id": "fdbe58b2-ccc4-4402-a0a9-6c7d9c8494ac",
   "metadata": {},
   "source": [
    "<br />"
   ]
  },
  {
   "cell_type": "markdown",
   "id": "31f45a84-0c32-4acc-845f-ad1d0f987912",
   "metadata": {},
   "source": [
    "## Create arrays with initial placeholder content"
   ]
  },
  {
   "cell_type": "markdown",
   "id": "f128f81d-88a1-4000-8d26-d883922f6eb7",
   "metadata": {},
   "source": [
    "Notice: Following functions will return an array whose element type is **float**."
   ]
  },
  {
   "cell_type": "code",
   "execution_count": 19,
   "id": "12242868-3aa6-4393-b7ef-1445b9183871",
   "metadata": {},
   "outputs": [
    {
     "name": "stdout",
     "output_type": "stream",
     "text": [
      "[[[0. 0. 0. 0. 0.]\n",
      "  [0. 0. 0. 0. 0.]\n",
      "  [0. 0. 0. 0. 0.]\n",
      "  [0. 0. 0. 0. 0.]]\n",
      "\n",
      " [[0. 0. 0. 0. 0.]\n",
      "  [0. 0. 0. 0. 0.]\n",
      "  [0. 0. 0. 0. 0.]\n",
      "  [0. 0. 0. 0. 0.]]\n",
      "\n",
      " [[0. 0. 0. 0. 0.]\n",
      "  [0. 0. 0. 0. 0.]\n",
      "  [0. 0. 0. 0. 0.]\n",
      "  [0. 0. 0. 0. 0.]]]\n",
      "arr_fullof_zero.dtype = float64\n"
     ]
    }
   ],
   "source": [
    "arr_fullof_zero = np.zeros( (3, 4, 5) )\n",
    "print(arr_fullof_zero)\n",
    "print(\"arr_fullof_zero.dtype =\", arr_fullof_zero.dtype)"
   ]
  },
  {
   "cell_type": "code",
   "execution_count": 20,
   "id": "241a6288-6be2-4b02-a89e-ec6259c2af09",
   "metadata": {},
   "outputs": [
    {
     "name": "stdout",
     "output_type": "stream",
     "text": [
      "[[1. 1. 1.]\n",
      " [1. 1. 1.]]\n",
      "arr_fullof_one.dtype = float64\n"
     ]
    }
   ],
   "source": [
    "arr_fullof_one = np.ones( (2, 3) )\n",
    "print(arr_fullof_one)\n",
    "print(\"arr_fullof_one.dtype =\", arr_fullof_one.dtype)"
   ]
  },
  {
   "cell_type": "code",
   "execution_count": 22,
   "id": "a6f8fb81-0022-418b-9833-3d12b5fc9705",
   "metadata": {},
   "outputs": [
    {
     "name": "stdout",
     "output_type": "stream",
     "text": [
      "[[1. 1. 1.]\n",
      " [1. 1. 1.]]\n",
      "arr_fullof_random.dtype = float64\n"
     ]
    }
   ],
   "source": [
    "arr_fullof_random = np.empty( (2, 3) )\n",
    "print(arr_fullof_random)\n",
    "print(\"arr_fullof_random.dtype =\", arr_fullof_random.dtype)"
   ]
  },
  {
   "cell_type": "markdown",
   "id": "1949e3fe-99f6-45ba-ad39-472b71f0b658",
   "metadata": {},
   "source": [
    "<br />"
   ]
  },
  {
   "cell_type": "markdown",
   "id": "c8b2f494-1709-48b5-bedf-39b230d6ed3e",
   "metadata": {},
   "source": [
    "## Create sequences of numbers"
   ]
  },
  {
   "cell_type": "code",
   "execution_count": 23,
   "id": "e4085e3f-5b5b-46bf-bfb9-aefba6dc8c91",
   "metadata": {},
   "outputs": [
    {
     "name": "stdout",
     "output_type": "stream",
     "text": [
      "[ 1  2  3  4  5  6  7  8  9 10 11 12 13 14]\n",
      "int64\n"
     ]
    }
   ],
   "source": [
    "arr_from_arange = np.arange(1, 15)\n",
    "print(arr_from_arange)\n",
    "print(arr_from_arange.dtype)"
   ]
  },
  {
   "cell_type": "code",
   "execution_count": 25,
   "id": "dd870c61-2cf9-45c7-aa1d-15b83fd3a7b1",
   "metadata": {},
   "outputs": [
    {
     "name": "stdout",
     "output_type": "stream",
     "text": [
      "[ 0.   0.4  0.8  1.2  1.6  2.   2.4  2.8  3.2  3.6  4.   4.4  4.8  5.2\n",
      "  5.6  6.   6.4  6.8  7.2  7.6  8.   8.4  8.8  9.2  9.6 10.  10.4 10.8\n",
      " 11.2 11.6 12.  12.4 12.8 13.2 13.6 14.  14.4 14.8]\n",
      "float64\n"
     ]
    }
   ],
   "source": [
    "float_arr_from_arange = np.arange(0.0, 15.0, 0.4)\n",
    "print(float_arr_from_arange)\n",
    "print(float_arr_from_arange.dtype)"
   ]
  },
  {
   "cell_type": "markdown",
   "id": "bc67c96e-31fb-4cf7-a916-fd2850a7e448",
   "metadata": {},
   "source": [
    "> When arange is used with floating point arguments, it is generally not possible to predict the number of elements obtained, due to the finite floating point precision. For this reason, it is usually better to use the function linspace that receives as an argument the number of elements that we want, instead of the step."
   ]
  },
  {
   "cell_type": "code",
   "execution_count": 26,
   "id": "d7cf5355-d285-4c98-8e4f-3560dca91553",
   "metadata": {},
   "outputs": [
    {
     "name": "stdout",
     "output_type": "stream",
     "text": [
      "[0.  0.5 1.  1.5 2.  2.5 3.  3.5 4. ]\n"
     ]
    }
   ],
   "source": [
    "arr_from_linspace = np.linspace(0, 4, 9)    # 9 numbers from 0 to 4\n",
    "print(arr_from_linspace)"
   ]
  },
  {
   "cell_type": "markdown",
   "id": "5215bd29-3101-490e-9014-cc52e90188ab",
   "metadata": {},
   "source": [
    "`linspace` is also useful to evaluate function at lots of points:"
   ]
  },
  {
   "cell_type": "code",
   "execution_count": 34,
   "id": "15c89fa0-f510-4ee6-a2c7-ef6c285252aa",
   "metadata": {},
   "outputs": [
    {
     "name": "stdout",
     "output_type": "stream",
     "text": [
      "[0.         0.6981317  1.3962634  2.0943951  2.7925268  3.4906585\n",
      " 4.1887902  4.88692191 5.58505361 6.28318531]\n",
      "==================================================\n",
      "[ 0.00000000e+00  6.42787610e-01  9.84807753e-01  8.66025404e-01\n",
      "  3.42020143e-01 -3.42020143e-01 -8.66025404e-01 -9.84807753e-01\n",
      " -6.42787610e-01 -2.44929360e-16]\n"
     ]
    }
   ],
   "source": [
    "from numpy import pi\n",
    "\n",
    "arr_pi_points = np.linspace(0, 2 * pi, 10)\n",
    "print(arr_pi_points)\n",
    "print(\"=\" * 50)\n",
    "print(np.sin(arr_pi_points))"
   ]
  }
 ],
 "metadata": {
  "kernelspec": {
   "display_name": "Python 3 (ipykernel)",
   "language": "python",
   "name": "python3"
  },
  "language_info": {
   "codemirror_mode": {
    "name": "ipython",
    "version": 3
   },
   "file_extension": ".py",
   "mimetype": "text/x-python",
   "name": "python",
   "nbconvert_exporter": "python",
   "pygments_lexer": "ipython3",
   "version": "3.12.4"
  }
 },
 "nbformat": 4,
 "nbformat_minor": 5
}
