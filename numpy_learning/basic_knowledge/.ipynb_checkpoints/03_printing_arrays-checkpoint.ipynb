{
 "cells": [
  {
   "cell_type": "markdown",
   "id": "f93b5bab-974e-483a-9d1e-80930ff4f651",
   "metadata": {},
   "source": [
    "Link: [Printing Arrays](https://www.numpy.org.cn/en/user/quickstart.html#printing-arrays)"
   ]
  },
  {
   "cell_type": "code",
   "execution_count": 1,
   "id": "a606c334-7b66-41f2-ac42-91e4624d5a07",
   "metadata": {},
   "outputs": [],
   "source": [
    "import numpy as np"
   ]
  },
  {
   "cell_type": "markdown",
   "id": "77c1ad3a-5809-44dd-9301-a59bf8023944",
   "metadata": {},
   "source": [
    "<br />"
   ]
  },
  {
   "cell_type": "markdown",
   "id": "333d5d9b-75e2-4a48-9c31-737f59fedb1d",
   "metadata": {},
   "source": [
    "# One-dimensional arrays: from left to right."
   ]
  },
  {
   "cell_type": "code",
   "execution_count": 3,
   "id": "35c6a737-9e2b-4227-b2f5-06e5ef007ab9",
   "metadata": {},
   "outputs": [
    {
     "name": "stdout",
     "output_type": "stream",
     "text": [
      "[0 1 2 3 4 5 6 7 8 9]\n",
      "1\n",
      "(10,)\n"
     ]
    }
   ],
   "source": [
    "arr_1d = np.arange(10)\n",
    "\n",
    "print(arr_1d)\n",
    "print(arr_1d.ndim)\n",
    "print(arr_1d.shape)"
   ]
  },
  {
   "cell_type": "markdown",
   "id": "244b3fbd-3677-4e3f-b8dd-e6259725cf47",
   "metadata": {},
   "source": [
    "<br />"
   ]
  },
  {
   "cell_type": "markdown",
   "id": "281a8603-cf71-4066-b8a9-91923ef04b36",
   "metadata": {},
   "source": [
    "# Bidimensional arrays: matrices."
   ]
  },
  {
   "cell_type": "code",
   "execution_count": 4,
   "id": "68e91615-b3dc-4683-8ded-7172e197bd1a",
   "metadata": {},
   "outputs": [
    {
     "name": "stdout",
     "output_type": "stream",
     "text": [
      "[[ 0  1  2  3  4  5]\n",
      " [ 6  7  8  9 10 11]\n",
      " [12 13 14 15 16 17]\n",
      " [18 19 20 21 22 23]\n",
      " [24 25 26 27 28 29]]\n",
      "2\n",
      "(5, 6)\n"
     ]
    }
   ],
   "source": [
    "arr_2d = np.arange(30).reshape(5, 6)\n",
    "\n",
    "print(arr_2d)\n",
    "print(arr_2d.ndim)\n",
    "print(arr_2d.shape)"
   ]
  },
  {
   "cell_type": "markdown",
   "id": "26c12f1f-4cb4-4a3f-a590-6d4f22dd69b4",
   "metadata": {},
   "source": [
    "<br />"
   ]
  },
  {
   "cell_type": "markdown",
   "id": "de1a991b-bf38-48c1-a4d3-8a782b42711a",
   "metadata": {},
   "source": [
    "# Tridimensional arrays: lists of matrices."
   ]
  },
  {
   "cell_type": "code",
   "execution_count": 6,
   "id": "a5d8a6a9-f572-44b4-94f2-52719498b8f6",
   "metadata": {},
   "outputs": [
    {
     "name": "stdout",
     "output_type": "stream",
     "text": [
      "[[[  0   1   2   3   4   5]\n",
      "  [  6   7   8   9  10  11]\n",
      "  [ 12  13  14  15  16  17]\n",
      "  [ 18  19  20  21  22  23]\n",
      "  [ 24  25  26  27  28  29]]\n",
      "\n",
      " [[ 30  31  32  33  34  35]\n",
      "  [ 36  37  38  39  40  41]\n",
      "  [ 42  43  44  45  46  47]\n",
      "  [ 48  49  50  51  52  53]\n",
      "  [ 54  55  56  57  58  59]]\n",
      "\n",
      " [[ 60  61  62  63  64  65]\n",
      "  [ 66  67  68  69  70  71]\n",
      "  [ 72  73  74  75  76  77]\n",
      "  [ 78  79  80  81  82  83]\n",
      "  [ 84  85  86  87  88  89]]\n",
      "\n",
      " [[ 90  91  92  93  94  95]\n",
      "  [ 96  97  98  99 100 101]\n",
      "  [102 103 104 105 106 107]\n",
      "  [108 109 110 111 112 113]\n",
      "  [114 115 116 117 118 119]]]\n",
      "3\n",
      "(4, 5, 6)\n"
     ]
    }
   ],
   "source": [
    "arr_3d = np.arange(120).reshape(4, 5, 6)\n",
    "\n",
    "print(arr_3d)\n",
    "print(arr_3d.ndim)\n",
    "print(arr_3d.shape)"
   ]
  },
  {
   "cell_type": "markdown",
   "id": "4664c361-0ed8-4176-bf39-042ac3375776",
   "metadata": {},
   "source": [
    "<br />"
   ]
  },
  {
   "cell_type": "markdown",
   "id": "6d945235-f70f-41e9-94b6-9d433561ee88",
   "metadata": {},
   "source": [
    "# Too large to be printed\n"
   ]
  },
  {
   "cell_type": "code",
   "execution_count": 23,
   "id": "f8559f64-ba4f-4b37-aedb-f69be45309b1",
   "metadata": {},
   "outputs": [
    {
     "name": "stdout",
     "output_type": "stream",
     "text": [
      "[ 0  1  2 ... 97 98 99]\n"
     ]
    }
   ],
   "source": [
    "print(np.arange(0, 100))"
   ]
  },
  {
   "cell_type": "markdown",
   "id": "f919419b-0a46-4990-85fc-f090fad4d6a3",
   "metadata": {},
   "source": [
    "To print the entire array:"
   ]
  },
  {
   "cell_type": "code",
   "execution_count": 24,
   "id": "a704bbd6-7a5a-49da-9018-c2786673f53c",
   "metadata": {},
   "outputs": [
    {
     "name": "stdout",
     "output_type": "stream",
     "text": [
      "[ 0  1  2  3  4  5  6  7  8  9 10 11 12 13 14 15 16 17 18 19 20 21 22 23\n",
      " 24 25 26 27 28 29 30 31 32 33 34 35 36 37 38 39 40 41 42 43 44 45 46 47\n",
      " 48 49 50 51 52 53 54 55 56 57 58 59 60 61 62 63 64 65 66 67 68 69 70 71\n",
      " 72 73 74 75 76 77 78 79 80 81 82 83 84 85 86 87 88 89 90 91 92 93 94 95\n",
      " 96 97 98 99]\n"
     ]
    }
   ],
   "source": [
    "import sys\n",
    "np.set_printoptions(threshold = sys.maxsize)\n",
    "\n",
    "print(np.arange(0, 100))"
   ]
  }
 ],
 "metadata": {
  "kernelspec": {
   "display_name": "Python 3 (ipykernel)",
   "language": "python",
   "name": "python3"
  },
  "language_info": {
   "codemirror_mode": {
    "name": "ipython",
    "version": 3
   },
   "file_extension": ".py",
   "mimetype": "text/x-python",
   "name": "python",
   "nbconvert_exporter": "python",
   "pygments_lexer": "ipython3",
   "version": "3.12.4"
  }
 },
 "nbformat": 4,
 "nbformat_minor": 5
}
